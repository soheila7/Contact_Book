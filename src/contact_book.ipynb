{
 "cells": [
  {
   "cell_type": "markdown",
   "metadata": {},
   "source": [
    "-ContactBook\n",
    "-Methods:\n",
    "    -add_contact(create)\n",
    "    -view_contact(read)\n",
    "    -update_contact(update)\n",
    "    -delete_contact(delete)\n",
    "\n"
   ]
  },
  {
   "cell_type": "code",
   "execution_count": 23,
   "metadata": {},
   "outputs": [],
   "source": [
    "class ContactBook:\n",
    "    def __init__(self):\n",
    "        self.contacts = {}\n",
    "    \n",
    "    \n",
    "    def add_contact(self, name, phone, email=None):\n",
    "        if name in self.contacts:\n",
    "            print(\"Contact already exists\")\n",
    "            return\n",
    "        \n",
    "        self.contacts[name] = {}\n",
    "        self.contacts[name][\"phone\"] = phone\n",
    "        self.contacts[name][\"email\"] = email\n",
    "\n",
    "    def view_contact(self):\n",
    "        for name, info in self.contacts.items():\n",
    "            print(f\"Name: {name}\")\n",
    "            print(f\"Phone: {info['phone']}\")\n",
    "            print(f\"Email: {info['email']}\")\n",
    "            print(\"_\" *50)\n",
    "\n",
    "    def delete_contact(self, name):\n",
    "        if name in self.contacts:\n",
    "            del self.contacts[name]\n",
    "            print(\"contact deleted successfully!\")\n",
    "        else:\n",
    "            print(\"contact not found!\")\n",
    "\n",
    "    def update_contact(self, name, phone=None, email=None):\n",
    "        if name in self.contacts:\n",
    "            if phone:\n",
    "                self.contacts[name][\"phone\"] = phone\n",
    "            if email:\n",
    "                self.contacts[name][\"email\"] = email\n",
    "            print(\"contact updated successfully!\")\n",
    "            return\n",
    "        print(\"contact not found!\")"
   ]
  },
  {
   "cell_type": "code",
   "execution_count": 24,
   "metadata": {},
   "outputs": [],
   "source": [
    "book = ContactBook()\n",
    "book.add_contact(name=\"ali\", phone=\"103-948\", email=\"ali@gmail.com\")\n",
    "book.add_contact(name=\"reza\", phone=\"908-948\", email=\"reza@gmail.com\")"
   ]
  },
  {
   "cell_type": "code",
   "execution_count": 25,
   "metadata": {},
   "outputs": [
    {
     "data": {
      "text/plain": [
       "{'ali': {'phone': '103-948', 'email': 'ali@gmail.com'},\n",
       " 'reza': {'phone': '908-948', 'email': 'reza@gmail.com'}}"
      ]
     },
     "execution_count": 25,
     "metadata": {},
     "output_type": "execute_result"
    }
   ],
   "source": [
    "book.contacts"
   ]
  },
  {
   "cell_type": "code",
   "execution_count": 26,
   "metadata": {},
   "outputs": [
    {
     "data": {
      "text/plain": [
       "{'phone': '103-948', 'email': 'ali@gmail.com'}"
      ]
     },
     "execution_count": 26,
     "metadata": {},
     "output_type": "execute_result"
    }
   ],
   "source": [
    "book.contacts['ali']"
   ]
  },
  {
   "cell_type": "code",
   "execution_count": 27,
   "metadata": {},
   "outputs": [
    {
     "name": "stdout",
     "output_type": "stream",
     "text": [
      "Name: ali\n",
      "Phone: 103-948\n",
      "Email: ali@gmail.com\n",
      "__________________________________________________\n",
      "Name: reza\n",
      "Phone: 908-948\n",
      "Email: reza@gmail.com\n",
      "__________________________________________________\n"
     ]
    }
   ],
   "source": [
    "book.view_contact()"
   ]
  },
  {
   "cell_type": "code",
   "execution_count": 29,
   "metadata": {},
   "outputs": [
    {
     "name": "stdout",
     "output_type": "stream",
     "text": [
      "\n",
      "\n",
      "Welcome to Contactbook application!\n",
      "1. Add Contact\n",
      "2. Edit Contact\n",
      "3. View Contacts\n",
      "4. Delete Contact\n",
      "5. Quit\n"
     ]
    }
   ],
   "source": [
    "new_book = ContactBook()\n",
    "while True:\n",
    "    print(\"\\n\\nWelcome to Contactbook application!\")\n",
    "    print(\"1. Add Contact\")\n",
    "    print(\"2. Edit Contact\")\n",
    "    print(\"3. View Contacts\")\n",
    "    print(\"4. Delete Contact\")\n",
    "    print(\"5. Quit\")\n",
    "\n",
    "    user_choice = input(\"Please choose an option: \")\n",
    "    if user_choice == \"5\":\n",
    "        break\n",
    "\n",
    "    elif user_choice == \"1\":\n",
    "        name = input(\"\\nEnter contact name: \")\n",
    "        phone = input(\"Enter contact phone \")\n",
    "        email = input(\"Enter contact email: \")\n",
    "\n",
    "        new_book.add_contact(name, phone, email)\n",
    "    \n",
    "    elif user_choice == \"2\":\n",
    "        name = input(\"\\nEnter contact name: \")\n",
    "        phone = input(\"Enter contact phone \")\n",
    "        email = input(\"Enter contact email: \")\n",
    "\n",
    "        new_book.update_contact(name, phone, email)\n",
    "    \n",
    "    elif user_choice == \"3\":\n",
    "        print(\"\\n\\nList of contacts:\")\n",
    "        new_book.view_contact()\n",
    "    \n",
    "    elif user_choice == \"4\":\n",
    "        name = input(\"Enter contact name: \")\n",
    "        new_book.delete_contact(name)\n"
   ]
  },
  {
   "cell_type": "code",
   "execution_count": null,
   "metadata": {},
   "outputs": [],
   "source": []
  }
 ],
 "metadata": {
  "kernelspec": {
   "display_name": "jupyterlab_environment",
   "language": "python",
   "name": "python3"
  },
  "language_info": {
   "codemirror_mode": {
    "name": "ipython",
    "version": 3
   },
   "file_extension": ".py",
   "mimetype": "text/x-python",
   "name": "python",
   "nbconvert_exporter": "python",
   "pygments_lexer": "ipython3",
   "version": "3.10.15"
  }
 },
 "nbformat": 4,
 "nbformat_minor": 2
}
